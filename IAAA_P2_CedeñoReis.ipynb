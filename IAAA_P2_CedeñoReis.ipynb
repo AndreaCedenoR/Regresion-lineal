{
  "nbformat": 4,
  "nbformat_minor": 0,
  "metadata": {
    "colab": {
      "provenance": [],
      "authorship_tag": "ABX9TyNxEvwUN1z1zBvm/HKSeLr5",
      "include_colab_link": true
    },
    "kernelspec": {
      "name": "python3",
      "display_name": "Python 3"
    },
    "language_info": {
      "name": "python"
    }
  },
  "cells": [
    {
      "cell_type": "markdown",
      "metadata": {
        "id": "view-in-github",
        "colab_type": "text"
      },
      "source": [
        "<a href=\"https://colab.research.google.com/github/AndreaCedenoR/Regresion-lineal/blob/main/IAAA_P2_Cede%C3%B1oReis.ipynb\" target=\"_parent\"><img src=\"https://colab.research.google.com/assets/colab-badge.svg\" alt=\"Open In Colab\"/></a>"
      ]
    },
    {
      "cell_type": "code",
      "execution_count": null,
      "metadata": {
        "colab": {
          "base_uri": "https://localhost:8080/",
          "height": 316
        },
        "id": "WRs4qb7pJIuX",
        "outputId": "f81457bd-de09-4e1a-ae3b-fc508e31fbef"
      },
      "outputs": [
        {
          "output_type": "display_data",
          "data": {
            "text/plain": [
              "<IPython.core.display.HTML object>"
            ],
            "text/html": [
              "\n",
              "     <input type=\"file\" id=\"files-de1f4863-e088-4043-84ca-79b8b679a595\" name=\"files[]\" multiple disabled\n",
              "        style=\"border:none\" />\n",
              "     <output id=\"result-de1f4863-e088-4043-84ca-79b8b679a595\">\n",
              "      Upload widget is only available when the cell has been executed in the\n",
              "      current browser session. Please rerun this cell to enable.\n",
              "      </output>\n",
              "      <script>// Copyright 2017 Google LLC\n",
              "//\n",
              "// Licensed under the Apache License, Version 2.0 (the \"License\");\n",
              "// you may not use this file except in compliance with the License.\n",
              "// You may obtain a copy of the License at\n",
              "//\n",
              "//      http://www.apache.org/licenses/LICENSE-2.0\n",
              "//\n",
              "// Unless required by applicable law or agreed to in writing, software\n",
              "// distributed under the License is distributed on an \"AS IS\" BASIS,\n",
              "// WITHOUT WARRANTIES OR CONDITIONS OF ANY KIND, either express or implied.\n",
              "// See the License for the specific language governing permissions and\n",
              "// limitations under the License.\n",
              "\n",
              "/**\n",
              " * @fileoverview Helpers for google.colab Python module.\n",
              " */\n",
              "(function(scope) {\n",
              "function span(text, styleAttributes = {}) {\n",
              "  const element = document.createElement('span');\n",
              "  element.textContent = text;\n",
              "  for (const key of Object.keys(styleAttributes)) {\n",
              "    element.style[key] = styleAttributes[key];\n",
              "  }\n",
              "  return element;\n",
              "}\n",
              "\n",
              "// Max number of bytes which will be uploaded at a time.\n",
              "const MAX_PAYLOAD_SIZE = 100 * 1024;\n",
              "\n",
              "function _uploadFiles(inputId, outputId) {\n",
              "  const steps = uploadFilesStep(inputId, outputId);\n",
              "  const outputElement = document.getElementById(outputId);\n",
              "  // Cache steps on the outputElement to make it available for the next call\n",
              "  // to uploadFilesContinue from Python.\n",
              "  outputElement.steps = steps;\n",
              "\n",
              "  return _uploadFilesContinue(outputId);\n",
              "}\n",
              "\n",
              "// This is roughly an async generator (not supported in the browser yet),\n",
              "// where there are multiple asynchronous steps and the Python side is going\n",
              "// to poll for completion of each step.\n",
              "// This uses a Promise to block the python side on completion of each step,\n",
              "// then passes the result of the previous step as the input to the next step.\n",
              "function _uploadFilesContinue(outputId) {\n",
              "  const outputElement = document.getElementById(outputId);\n",
              "  const steps = outputElement.steps;\n",
              "\n",
              "  const next = steps.next(outputElement.lastPromiseValue);\n",
              "  return Promise.resolve(next.value.promise).then((value) => {\n",
              "    // Cache the last promise value to make it available to the next\n",
              "    // step of the generator.\n",
              "    outputElement.lastPromiseValue = value;\n",
              "    return next.value.response;\n",
              "  });\n",
              "}\n",
              "\n",
              "/**\n",
              " * Generator function which is called between each async step of the upload\n",
              " * process.\n",
              " * @param {string} inputId Element ID of the input file picker element.\n",
              " * @param {string} outputId Element ID of the output display.\n",
              " * @return {!Iterable<!Object>} Iterable of next steps.\n",
              " */\n",
              "function* uploadFilesStep(inputId, outputId) {\n",
              "  const inputElement = document.getElementById(inputId);\n",
              "  inputElement.disabled = false;\n",
              "\n",
              "  const outputElement = document.getElementById(outputId);\n",
              "  outputElement.innerHTML = '';\n",
              "\n",
              "  const pickedPromise = new Promise((resolve) => {\n",
              "    inputElement.addEventListener('change', (e) => {\n",
              "      resolve(e.target.files);\n",
              "    });\n",
              "  });\n",
              "\n",
              "  const cancel = document.createElement('button');\n",
              "  inputElement.parentElement.appendChild(cancel);\n",
              "  cancel.textContent = 'Cancel upload';\n",
              "  const cancelPromise = new Promise((resolve) => {\n",
              "    cancel.onclick = () => {\n",
              "      resolve(null);\n",
              "    };\n",
              "  });\n",
              "\n",
              "  // Wait for the user to pick the files.\n",
              "  const files = yield {\n",
              "    promise: Promise.race([pickedPromise, cancelPromise]),\n",
              "    response: {\n",
              "      action: 'starting',\n",
              "    }\n",
              "  };\n",
              "\n",
              "  cancel.remove();\n",
              "\n",
              "  // Disable the input element since further picks are not allowed.\n",
              "  inputElement.disabled = true;\n",
              "\n",
              "  if (!files) {\n",
              "    return {\n",
              "      response: {\n",
              "        action: 'complete',\n",
              "      }\n",
              "    };\n",
              "  }\n",
              "\n",
              "  for (const file of files) {\n",
              "    const li = document.createElement('li');\n",
              "    li.append(span(file.name, {fontWeight: 'bold'}));\n",
              "    li.append(span(\n",
              "        `(${file.type || 'n/a'}) - ${file.size} bytes, ` +\n",
              "        `last modified: ${\n",
              "            file.lastModifiedDate ? file.lastModifiedDate.toLocaleDateString() :\n",
              "                                    'n/a'} - `));\n",
              "    const percent = span('0% done');\n",
              "    li.appendChild(percent);\n",
              "\n",
              "    outputElement.appendChild(li);\n",
              "\n",
              "    const fileDataPromise = new Promise((resolve) => {\n",
              "      const reader = new FileReader();\n",
              "      reader.onload = (e) => {\n",
              "        resolve(e.target.result);\n",
              "      };\n",
              "      reader.readAsArrayBuffer(file);\n",
              "    });\n",
              "    // Wait for the data to be ready.\n",
              "    let fileData = yield {\n",
              "      promise: fileDataPromise,\n",
              "      response: {\n",
              "        action: 'continue',\n",
              "      }\n",
              "    };\n",
              "\n",
              "    // Use a chunked sending to avoid message size limits. See b/62115660.\n",
              "    let position = 0;\n",
              "    do {\n",
              "      const length = Math.min(fileData.byteLength - position, MAX_PAYLOAD_SIZE);\n",
              "      const chunk = new Uint8Array(fileData, position, length);\n",
              "      position += length;\n",
              "\n",
              "      const base64 = btoa(String.fromCharCode.apply(null, chunk));\n",
              "      yield {\n",
              "        response: {\n",
              "          action: 'append',\n",
              "          file: file.name,\n",
              "          data: base64,\n",
              "        },\n",
              "      };\n",
              "\n",
              "      let percentDone = fileData.byteLength === 0 ?\n",
              "          100 :\n",
              "          Math.round((position / fileData.byteLength) * 100);\n",
              "      percent.textContent = `${percentDone}% done`;\n",
              "\n",
              "    } while (position < fileData.byteLength);\n",
              "  }\n",
              "\n",
              "  // All done.\n",
              "  yield {\n",
              "    response: {\n",
              "      action: 'complete',\n",
              "    }\n",
              "  };\n",
              "}\n",
              "\n",
              "scope.google = scope.google || {};\n",
              "scope.google.colab = scope.google.colab || {};\n",
              "scope.google.colab._files = {\n",
              "  _uploadFiles,\n",
              "  _uploadFilesContinue,\n",
              "};\n",
              "})(self);\n",
              "</script> "
            ]
          },
          "metadata": {}
        },
        {
          "output_type": "stream",
          "name": "stdout",
          "text": [
            "Saving Fish.csv to Fish (1).csv\n",
            "<class 'pandas.core.frame.DataFrame'>\n",
            "RangeIndex: 159 entries, 0 to 158\n",
            "Data columns (total 7 columns):\n",
            " #   Column   Non-Null Count  Dtype  \n",
            "---  ------   --------------  -----  \n",
            " 0   Species  159 non-null    object \n",
            " 1   Weight   159 non-null    float64\n",
            " 2   Length1  159 non-null    float64\n",
            " 3   Length2  159 non-null    float64\n",
            " 4   Length3  159 non-null    float64\n",
            " 5   Height   159 non-null    float64\n",
            " 6   Width    159 non-null    float64\n",
            "dtypes: float64(6), object(1)\n",
            "memory usage: 8.8+ KB\n"
          ]
        }
      ],
      "source": [
        "import numpy as np\n",
        "import pandas as pd\n",
        "import matplotlib.pyplot as plt\n",
        "\n",
        "from google.colab import files\n",
        "uploades = files.upload()\n",
        "data = pd.read_csv(\"Fish.csv\")\n",
        "# Cargue y grafique el conjunto de datos ”Fish”.\n",
        "data.info()"
      ]
    },
    {
      "cell_type": "code",
      "source": [
        "# Seleccione las caracter´ısticas: ”Weight” y ”Height”, de la especie ”Bream”.\n",
        "bream_data = data[data['Species'] == 'Bream']\n",
        "\n",
        "weight = bream_data['Weight']\n",
        "height = bream_data['Height']\n",
        "\n",
        "# Graficar Weight vs Height\n",
        "plt.figure(figsize=(10, 6))\n",
        "plt.scatter(weight, height, color='blue', alpha=0.5)\n",
        "plt.title('Weight vs Height of Bream Fish')\n",
        "plt.xlabel('Weight (g)')\n",
        "plt.ylabel('Height (cm)')\n",
        "plt.grid(True)\n",
        "plt.show()"
      ],
      "metadata": {
        "colab": {
          "base_uri": "https://localhost:8080/",
          "height": 564
        },
        "id": "H3Rd2u6JMrJj",
        "outputId": "691a49d5-c44d-4b82-e66e-ddff37a36fa7"
      },
      "execution_count": null,
      "outputs": [
        {
          "output_type": "display_data",
          "data": {
            "text/plain": [
              "<Figure size 1000x600 with 1 Axes>"
            ],
            "image/png": "[encoded data removed]"
          },
          "metadata": {}
        }
      ]
    },
    {
      "cell_type": "code",
      "source": [
        "# Función para calcular los coeficientes por mínimos cuadrados\n",
        "def linear_regression_ls(x, y):\n",
        "    n = len(x)\n",
        "    sum_x = sum(x)              # Suma de todos los valores de x\n",
        "    sum_y = sum(y)              # Suma de todos los valores de y\n",
        "    sum_xy = sum(x * y)         # Suma de la multiplicación de x por y\n",
        "    sum_x2 = sum(x ** 2)        # Suma de x al cuadrado\n",
        "\n",
        "    # Calcula los coeficientes de la recta (pendiente e intercepto)\n",
        "    pendiente = (n * sum_xy - sum_x * sum_y) / (n * sum_x2 - sum_x ** 2)\n",
        "    intercepto = (sum_y - pendiente * sum_x) / n\n",
        "\n",
        "    # Devolver los coeficientes\n",
        "    return intercepto, pendiente\n",
        "\n",
        "# Obtener los coeficientes\n",
        "x = weight.values\n",
        "y = height.values\n",
        "beta_ls = linear_regression_ls(x, y)\n",
        "\n",
        "# Generar predicciones\n",
        "y_pred_ls = beta_ls[0] + beta_ls[1] * x\n",
        "\n",
        "# Graficar resultados\n",
        "plt.figure(figsize=(10, 6))\n",
        "plt.scatter(x, y, color='blue', alpha=0.5, label='Datos reales')\n",
        "plt.plot(x, y_pred_ls, color='red', label='Mínimos Cuadrados')\n",
        "plt.title('Ajuste por Mínimos Cuadrados')\n",
        "plt.xlabel('Weight (g)')\n",
        "plt.ylabel('Height (cm)')\n",
        "plt.legend()\n",
        "plt.grid(True)\n",
        "plt.show()\n"
      ],
      "metadata": {
        "colab": {
          "base_uri": "https://localhost:8080/",
          "height": 565
        },
        "id": "LdDq-uklPsw1",
        "outputId": "12261689-a24d-4b45-ad13-9119b5cd6319"
      },
      "execution_count": null,
      "outputs": [
        {
          "output_type": "display_data",
          "data": {
            "text/plain": [
              "<Figure size 1000x600 with 1 Axes>"
            ],
            "image/png": "[encoded data removed]"
          },
          "metadata": {}
        }
      ]
    },
    {
      "cell_type": "markdown",
      "source": [
        "El modelo lineal busca una relación de la forma:\n",
        "y^=mx+b\n"
      ],
      "metadata": {
        "id": "-ifR4gaGWKqI"
      }
    },
    {
      "cell_type": "code",
      "source": [
        "# Función de descenso de gradiente con el parámetro de aprendizaje ajustable\n",
        "def gradient_descent(x, y, learning_rate, epochs=500):\n",
        "    m, b = 0, 0  # Inicializar parámetros\n",
        "    n = len(x)\n",
        "    for _ in range(epochs):\n",
        "        y_pred = m * x + b\n",
        "        error = y - y_pred\n",
        "        m_grad = -(2/n) * sum(x * error)  # Gradiente para la pendiente\n",
        "        b_grad = -(2/n) * sum(error)      # Gradiente para el intercepto\n",
        "        m -= learning_rate * m_grad\n",
        "        b -= learning_rate * b_grad\n",
        "    return m, b\n",
        "\n",
        "# Función para calcular MSE\n",
        "def mse(y_true, y_pred):\n",
        "    return np.mean((y_true - y_pred) ** 2)\n",
        "\n",
        "from sklearn.model_selection import train_test_split\n",
        "x_train, x_val, y_train, y_val = train_test_split(weight.values, height.values, test_size=0.2, random_state=42)\n",
        "\n",
        "# Búsqueda del mejor parámetro de aprendizaje\n",
        "learning_rates = [1e-10, 1e-9, 1e-8, 1e-7, 1e-6]  # Rango de tasas de aprendizaje\n",
        "errors = []\n",
        "\n",
        "for lr in learning_rates:\n",
        "    m, b = gradient_descent(x_train, y_train, learning_rate=lr, epochs=500)\n",
        "    y_pred_val = m * x_val + b\n",
        "    error = mse(y_val, y_pred_val)\n",
        "    errors.append(error)\n",
        "    print(f\"Tasa de aprendizaje: {lr}, MSE en validación: {error}\")\n",
        "\n",
        "# Encontrar el mejor learning_rate\n",
        "best_lr = learning_rates[np.argmin(errors)]\n",
        "print(f\"\\nMejor tasa de aprendizaje: {best_lr}\")"
      ],
      "metadata": {
        "colab": {
          "base_uri": "https://localhost:8080/"
        },
        "id": "Gt9i4VEFSyjT",
        "outputId": "b4da17ae-2550-4f38-c585-0dfee6ea51ed"
      },
      "execution_count": null,
      "outputs": [
        {
          "output_type": "stream",
          "name": "stdout",
          "text": [
            "Tasa de aprendizaje: 1e-10, MSE en validación: 235.56177147628208\n",
            "Tasa de aprendizaje: 1e-09, MSE en validación: 114.68843410612057\n",
            "Tasa de aprendizaje: 1e-08, MSE en validación: 8.016649606457978\n",
            "Tasa de aprendizaje: 1e-07, MSE en validación: 8.121843499096558\n",
            "Tasa de aprendizaje: 1e-06, MSE en validación: 8.120491158522835\n",
            "\n",
            "Mejor tasa de aprendizaje: 1e-08\n"
          ]
        }
      ]
    },
    {
      "cell_type": "code",
      "source": [
        "# División de datos en entrenamiento y validación\n",
        "from sklearn.model_selection import train_test_split\n",
        "\n",
        "# Dividir los datos en conjunto de entrenamiento y conjunto de validación\n",
        "x_train, x_val, y_train, y_val = train_test_split(weight.values, height.values, test_size=0.2, random_state=42)\n",
        "\n",
        "# Entrenar el modelo usando descenso de gradiente\n",
        "def gradient_descent(x, y, learning_rate, epochs=500):\n",
        "    m, b = 0, 0  # Inicializar parámetros\n",
        "    n = len(x)\n",
        "    for _ in range(epochs):\n",
        "        y_pred = m * x + b\n",
        "        error = y - y_pred\n",
        "        m_grad = -(2/n) * sum(x * error)  # Gradiente para la pendiente\n",
        "        b_grad = -(2/n) * sum(error)      # Gradiente para el intercepto\n",
        "        m -= learning_rate * m_grad\n",
        "        b -= learning_rate * b_grad\n",
        "    return m, b\n",
        "\n",
        "# Usar el mejor learning_rate encontrado en tu búsqueda previa\n",
        "learning_rate = 1e-06  # Sustituye esto por el mejor valor encontrado\n",
        "m, b = gradient_descent(x_train, y_train, learning_rate, epochs=500)\n",
        "\n",
        "# Generar predicciones en el conjunto de validación\n",
        "y_pred_val = m * x_val + b\n",
        "\n",
        "# Calcular el error cuadrático medio (MSE) en el conjunto de validación\n",
        "def mse(y_true, y_pred):\n",
        "    return np.mean((y_true - y_pred) ** 2)\n",
        "\n",
        "mse_val = mse(y_val, y_pred_val)\n",
        "\n",
        "# Imprimir el desempeño del modelo\n",
        "print(f\"Error cuadrático medio (MSE) en el conjunto de validación: {mse_val}\")"
      ],
      "metadata": {
        "colab": {
          "base_uri": "https://localhost:8080/"
        },
        "id": "NLmCFPL2XrkA",
        "outputId": "21f9e7c4-c90f-46b2-d14a-27100914b4e1"
      },
      "execution_count": null,
      "outputs": [
        {
          "output_type": "stream",
          "name": "stdout",
          "text": [
            "Error cuadrático medio (MSE) en el conjunto de validación: 8.120491158522835\n"
          ]
        }
      ]
    },
    {
      "cell_type": "code",
      "source": [
        "from sklearn.linear_model import LinearRegression\n",
        "from sklearn.metrics import mean_squared_error\n",
        "\n",
        "# Entrenar el modelo con Scikit-learn\n",
        "model = LinearRegression()\n",
        "model.fit(x_train.reshape(-1, 1), y_train)  # Ajustar el modelo a los datos de entrenamiento\n",
        "\n",
        "# Generar predicciones con el conjunto de validación\n",
        "y_pred_sklearn = model.predict(x_val.reshape(-1, 1))\n",
        "\n",
        "# Calcular el MSE para Scikit-learn\n",
        "mse_sklearn = mean_squared_error(y_val, y_pred_sklearn)\n",
        "\n",
        "# Comparar MSE de ambos modelos\n",
        "print(f\"Error cuadrático medio (MSE) - Descenso de Gradiente: {mse_val}\")\n",
        "print(f\"Error cuadrático medio (MSE) - LinearRegression de Scikit-learn: {mse_sklearn}\")\n"
      ],
      "metadata": {
        "colab": {
          "base_uri": "https://localhost:8080/"
        },
        "id": "9KeUTISUYR_u",
        "outputId": "3597375c-854c-47a1-9b8c-448a4ead5cee"
      },
      "execution_count": null,
      "outputs": [
        {
          "output_type": "stream",
          "name": "stdout",
          "text": [
            "Error cuadrático medio (MSE) - Descenso de Gradiente: 8.120491158522835\n",
            "Error cuadrático medio (MSE) - LinearRegression de Scikit-learn: 0.474384216263332\n"
          ]
        }
      ]
    }
  ]
}